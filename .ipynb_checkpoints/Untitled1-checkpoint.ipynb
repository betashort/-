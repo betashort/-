{
 "cells": [
  {
   "cell_type": "code",
   "execution_count": 58,
   "metadata": {},
   "outputs": [],
   "source": [
    "import numpy as np\n",
    "import pandas as pd\n",
    "import matplotlib.pyplot as plt\n",
    "import datetime as dt\n",
    "\n",
    "from sklearn.model_selection import train_test_split"
   ]
  },
  {
   "cell_type": "code",
   "execution_count": 59,
   "metadata": {},
   "outputs": [],
   "source": [
    "data_path = \"/Users/betashort/Google Drive/nyse/prices.csv\""
   ]
  },
  {
   "cell_type": "code",
   "execution_count": 60,
   "metadata": {},
   "outputs": [],
   "source": [
    "data = pd.read_csv(data_path)"
   ]
  },
  {
   "cell_type": "code",
   "execution_count": 61,
   "metadata": {},
   "outputs": [
    {
     "data": {
      "text/html": [
       "<div>\n",
       "<style scoped>\n",
       "    .dataframe tbody tr th:only-of-type {\n",
       "        vertical-align: middle;\n",
       "    }\n",
       "\n",
       "    .dataframe tbody tr th {\n",
       "        vertical-align: top;\n",
       "    }\n",
       "\n",
       "    .dataframe thead th {\n",
       "        text-align: right;\n",
       "    }\n",
       "</style>\n",
       "<table border=\"1\" class=\"dataframe\">\n",
       "  <thead>\n",
       "    <tr style=\"text-align: right;\">\n",
       "      <th></th>\n",
       "      <th>date</th>\n",
       "      <th>symbol</th>\n",
       "      <th>open</th>\n",
       "      <th>close</th>\n",
       "      <th>low</th>\n",
       "      <th>high</th>\n",
       "      <th>volume</th>\n",
       "    </tr>\n",
       "  </thead>\n",
       "  <tbody>\n",
       "    <tr>\n",
       "      <th>254</th>\n",
       "      <td>2010-01-04</td>\n",
       "      <td>AAPL</td>\n",
       "      <td>213.429998</td>\n",
       "      <td>214.009998</td>\n",
       "      <td>212.380001</td>\n",
       "      <td>214.499996</td>\n",
       "      <td>123432400.0</td>\n",
       "    </tr>\n",
       "    <tr>\n",
       "      <th>721</th>\n",
       "      <td>2010-01-05</td>\n",
       "      <td>AAPL</td>\n",
       "      <td>214.599998</td>\n",
       "      <td>214.379993</td>\n",
       "      <td>213.249994</td>\n",
       "      <td>215.589994</td>\n",
       "      <td>150476200.0</td>\n",
       "    </tr>\n",
       "    <tr>\n",
       "      <th>1189</th>\n",
       "      <td>2010-01-06</td>\n",
       "      <td>AAPL</td>\n",
       "      <td>214.379993</td>\n",
       "      <td>210.969995</td>\n",
       "      <td>210.750004</td>\n",
       "      <td>215.230000</td>\n",
       "      <td>138040000.0</td>\n",
       "    </tr>\n",
       "    <tr>\n",
       "      <th>1657</th>\n",
       "      <td>2010-01-07</td>\n",
       "      <td>AAPL</td>\n",
       "      <td>211.750000</td>\n",
       "      <td>210.580000</td>\n",
       "      <td>209.050005</td>\n",
       "      <td>212.000006</td>\n",
       "      <td>119282800.0</td>\n",
       "    </tr>\n",
       "    <tr>\n",
       "      <th>2125</th>\n",
       "      <td>2010-01-08</td>\n",
       "      <td>AAPL</td>\n",
       "      <td>210.299994</td>\n",
       "      <td>211.980005</td>\n",
       "      <td>209.060005</td>\n",
       "      <td>212.000006</td>\n",
       "      <td>111902700.0</td>\n",
       "    </tr>\n",
       "  </tbody>\n",
       "</table>\n",
       "</div>"
      ],
      "text/plain": [
       "            date symbol        open       close         low        high  \\\n",
       "254   2010-01-04   AAPL  213.429998  214.009998  212.380001  214.499996   \n",
       "721   2010-01-05   AAPL  214.599998  214.379993  213.249994  215.589994   \n",
       "1189  2010-01-06   AAPL  214.379993  210.969995  210.750004  215.230000   \n",
       "1657  2010-01-07   AAPL  211.750000  210.580000  209.050005  212.000006   \n",
       "2125  2010-01-08   AAPL  210.299994  211.980005  209.060005  212.000006   \n",
       "\n",
       "           volume  \n",
       "254   123432400.0  \n",
       "721   150476200.0  \n",
       "1189  138040000.0  \n",
       "1657  119282800.0  \n",
       "2125  111902700.0  "
      ]
     },
     "execution_count": 61,
     "metadata": {},
     "output_type": "execute_result"
    }
   ],
   "source": [
    "data[data.symbol=='AAPL'].head()"
   ]
  },
  {
   "cell_type": "code",
   "execution_count": 62,
   "metadata": {},
   "outputs": [],
   "source": [
    "AAPL = data[data.symbol=='AAPL']"
   ]
  },
  {
   "cell_type": "code",
   "execution_count": 63,
   "metadata": {},
   "outputs": [
    {
     "data": {
      "text/html": [
       "<div>\n",
       "<style scoped>\n",
       "    .dataframe tbody tr th:only-of-type {\n",
       "        vertical-align: middle;\n",
       "    }\n",
       "\n",
       "    .dataframe tbody tr th {\n",
       "        vertical-align: top;\n",
       "    }\n",
       "\n",
       "    .dataframe thead th {\n",
       "        text-align: right;\n",
       "    }\n",
       "</style>\n",
       "<table border=\"1\" class=\"dataframe\">\n",
       "  <thead>\n",
       "    <tr style=\"text-align: right;\">\n",
       "      <th></th>\n",
       "      <th>date</th>\n",
       "      <th>symbol</th>\n",
       "      <th>open</th>\n",
       "      <th>close</th>\n",
       "      <th>low</th>\n",
       "      <th>high</th>\n",
       "      <th>volume</th>\n",
       "    </tr>\n",
       "  </thead>\n",
       "  <tbody>\n",
       "    <tr>\n",
       "      <th>254</th>\n",
       "      <td>2010-01-04</td>\n",
       "      <td>AAPL</td>\n",
       "      <td>213.429998</td>\n",
       "      <td>214.009998</td>\n",
       "      <td>212.380001</td>\n",
       "      <td>214.499996</td>\n",
       "      <td>123432400.0</td>\n",
       "    </tr>\n",
       "    <tr>\n",
       "      <th>721</th>\n",
       "      <td>2010-01-05</td>\n",
       "      <td>AAPL</td>\n",
       "      <td>214.599998</td>\n",
       "      <td>214.379993</td>\n",
       "      <td>213.249994</td>\n",
       "      <td>215.589994</td>\n",
       "      <td>150476200.0</td>\n",
       "    </tr>\n",
       "    <tr>\n",
       "      <th>1189</th>\n",
       "      <td>2010-01-06</td>\n",
       "      <td>AAPL</td>\n",
       "      <td>214.379993</td>\n",
       "      <td>210.969995</td>\n",
       "      <td>210.750004</td>\n",
       "      <td>215.230000</td>\n",
       "      <td>138040000.0</td>\n",
       "    </tr>\n",
       "    <tr>\n",
       "      <th>1657</th>\n",
       "      <td>2010-01-07</td>\n",
       "      <td>AAPL</td>\n",
       "      <td>211.750000</td>\n",
       "      <td>210.580000</td>\n",
       "      <td>209.050005</td>\n",
       "      <td>212.000006</td>\n",
       "      <td>119282800.0</td>\n",
       "    </tr>\n",
       "    <tr>\n",
       "      <th>2125</th>\n",
       "      <td>2010-01-08</td>\n",
       "      <td>AAPL</td>\n",
       "      <td>210.299994</td>\n",
       "      <td>211.980005</td>\n",
       "      <td>209.060005</td>\n",
       "      <td>212.000006</td>\n",
       "      <td>111902700.0</td>\n",
       "    </tr>\n",
       "  </tbody>\n",
       "</table>\n",
       "</div>"
      ],
      "text/plain": [
       "            date symbol        open       close         low        high  \\\n",
       "254   2010-01-04   AAPL  213.429998  214.009998  212.380001  214.499996   \n",
       "721   2010-01-05   AAPL  214.599998  214.379993  213.249994  215.589994   \n",
       "1189  2010-01-06   AAPL  214.379993  210.969995  210.750004  215.230000   \n",
       "1657  2010-01-07   AAPL  211.750000  210.580000  209.050005  212.000006   \n",
       "2125  2010-01-08   AAPL  210.299994  211.980005  209.060005  212.000006   \n",
       "\n",
       "           volume  \n",
       "254   123432400.0  \n",
       "721   150476200.0  \n",
       "1189  138040000.0  \n",
       "1657  119282800.0  \n",
       "2125  111902700.0  "
      ]
     },
     "execution_count": 63,
     "metadata": {},
     "output_type": "execute_result"
    }
   ],
   "source": [
    "AAPL.head()"
   ]
  },
  {
   "cell_type": "code",
   "execution_count": 64,
   "metadata": {},
   "outputs": [
    {
     "data": {
      "text/html": [
       "<div>\n",
       "<style scoped>\n",
       "    .dataframe tbody tr th:only-of-type {\n",
       "        vertical-align: middle;\n",
       "    }\n",
       "\n",
       "    .dataframe tbody tr th {\n",
       "        vertical-align: top;\n",
       "    }\n",
       "\n",
       "    .dataframe thead th {\n",
       "        text-align: right;\n",
       "    }\n",
       "</style>\n",
       "<table border=\"1\" class=\"dataframe\">\n",
       "  <thead>\n",
       "    <tr style=\"text-align: right;\">\n",
       "      <th></th>\n",
       "      <th>date</th>\n",
       "      <th>symbol</th>\n",
       "      <th>open</th>\n",
       "      <th>close</th>\n",
       "      <th>low</th>\n",
       "      <th>high</th>\n",
       "      <th>volume</th>\n",
       "    </tr>\n",
       "  </thead>\n",
       "  <tbody>\n",
       "    <tr>\n",
       "      <th>848767</th>\n",
       "      <td>2016-12-23</td>\n",
       "      <td>AAPL</td>\n",
       "      <td>115.589996</td>\n",
       "      <td>116.519997</td>\n",
       "      <td>115.589996</td>\n",
       "      <td>116.519997</td>\n",
       "      <td>14249500.0</td>\n",
       "    </tr>\n",
       "    <tr>\n",
       "      <th>849267</th>\n",
       "      <td>2016-12-27</td>\n",
       "      <td>AAPL</td>\n",
       "      <td>116.519997</td>\n",
       "      <td>117.260002</td>\n",
       "      <td>116.489998</td>\n",
       "      <td>117.800003</td>\n",
       "      <td>18296900.0</td>\n",
       "    </tr>\n",
       "    <tr>\n",
       "      <th>849767</th>\n",
       "      <td>2016-12-28</td>\n",
       "      <td>AAPL</td>\n",
       "      <td>117.519997</td>\n",
       "      <td>116.760002</td>\n",
       "      <td>116.199997</td>\n",
       "      <td>118.019997</td>\n",
       "      <td>20905900.0</td>\n",
       "    </tr>\n",
       "    <tr>\n",
       "      <th>850267</th>\n",
       "      <td>2016-12-29</td>\n",
       "      <td>AAPL</td>\n",
       "      <td>116.449997</td>\n",
       "      <td>116.730003</td>\n",
       "      <td>116.400002</td>\n",
       "      <td>117.110001</td>\n",
       "      <td>15039500.0</td>\n",
       "    </tr>\n",
       "    <tr>\n",
       "      <th>850767</th>\n",
       "      <td>2016-12-30</td>\n",
       "      <td>AAPL</td>\n",
       "      <td>116.650002</td>\n",
       "      <td>115.820000</td>\n",
       "      <td>115.430000</td>\n",
       "      <td>117.199997</td>\n",
       "      <td>30586300.0</td>\n",
       "    </tr>\n",
       "  </tbody>\n",
       "</table>\n",
       "</div>"
      ],
      "text/plain": [
       "              date symbol        open       close         low        high  \\\n",
       "848767  2016-12-23   AAPL  115.589996  116.519997  115.589996  116.519997   \n",
       "849267  2016-12-27   AAPL  116.519997  117.260002  116.489998  117.800003   \n",
       "849767  2016-12-28   AAPL  117.519997  116.760002  116.199997  118.019997   \n",
       "850267  2016-12-29   AAPL  116.449997  116.730003  116.400002  117.110001   \n",
       "850767  2016-12-30   AAPL  116.650002  115.820000  115.430000  117.199997   \n",
       "\n",
       "            volume  \n",
       "848767  14249500.0  \n",
       "849267  18296900.0  \n",
       "849767  20905900.0  \n",
       "850267  15039500.0  \n",
       "850767  30586300.0  "
      ]
     },
     "execution_count": 64,
     "metadata": {},
     "output_type": "execute_result"
    }
   ],
   "source": [
    "AAPL.tail()"
   ]
  },
  {
   "cell_type": "code",
   "execution_count": 65,
   "metadata": {},
   "outputs": [
    {
     "data": {
      "text/html": [
       "<div>\n",
       "<style scoped>\n",
       "    .dataframe tbody tr th:only-of-type {\n",
       "        vertical-align: middle;\n",
       "    }\n",
       "\n",
       "    .dataframe tbody tr th {\n",
       "        vertical-align: top;\n",
       "    }\n",
       "\n",
       "    .dataframe thead th {\n",
       "        text-align: right;\n",
       "    }\n",
       "</style>\n",
       "<table border=\"1\" class=\"dataframe\">\n",
       "  <thead>\n",
       "    <tr style=\"text-align: right;\">\n",
       "      <th></th>\n",
       "      <th>open</th>\n",
       "      <th>close</th>\n",
       "      <th>low</th>\n",
       "      <th>high</th>\n",
       "      <th>volume</th>\n",
       "    </tr>\n",
       "  </thead>\n",
       "  <tbody>\n",
       "    <tr>\n",
       "      <th>count</th>\n",
       "      <td>1762.000000</td>\n",
       "      <td>1762.000000</td>\n",
       "      <td>1762.000000</td>\n",
       "      <td>1762.000000</td>\n",
       "      <td>1.762000e+03</td>\n",
       "    </tr>\n",
       "    <tr>\n",
       "      <th>mean</th>\n",
       "      <td>313.076311</td>\n",
       "      <td>312.927066</td>\n",
       "      <td>309.828241</td>\n",
       "      <td>315.911288</td>\n",
       "      <td>9.422578e+07</td>\n",
       "    </tr>\n",
       "    <tr>\n",
       "      <th>std</th>\n",
       "      <td>185.299468</td>\n",
       "      <td>185.147104</td>\n",
       "      <td>183.383917</td>\n",
       "      <td>186.898177</td>\n",
       "      <td>6.020519e+07</td>\n",
       "    </tr>\n",
       "    <tr>\n",
       "      <th>min</th>\n",
       "      <td>90.000000</td>\n",
       "      <td>90.279999</td>\n",
       "      <td>89.470001</td>\n",
       "      <td>90.699997</td>\n",
       "      <td>1.147590e+07</td>\n",
       "    </tr>\n",
       "    <tr>\n",
       "      <th>25%</th>\n",
       "      <td>115.222498</td>\n",
       "      <td>115.190002</td>\n",
       "      <td>114.002500</td>\n",
       "      <td>116.362499</td>\n",
       "      <td>4.917478e+07</td>\n",
       "    </tr>\n",
       "    <tr>\n",
       "      <th>50%</th>\n",
       "      <td>318.230007</td>\n",
       "      <td>318.240007</td>\n",
       "      <td>316.545002</td>\n",
       "      <td>320.600008</td>\n",
       "      <td>8.050385e+07</td>\n",
       "    </tr>\n",
       "    <tr>\n",
       "      <th>75%</th>\n",
       "      <td>470.880016</td>\n",
       "      <td>472.592512</td>\n",
       "      <td>467.972513</td>\n",
       "      <td>478.110008</td>\n",
       "      <td>1.210816e+08</td>\n",
       "    </tr>\n",
       "    <tr>\n",
       "      <th>max</th>\n",
       "      <td>702.409988</td>\n",
       "      <td>702.100021</td>\n",
       "      <td>699.569977</td>\n",
       "      <td>705.070023</td>\n",
       "      <td>4.702495e+08</td>\n",
       "    </tr>\n",
       "  </tbody>\n",
       "</table>\n",
       "</div>"
      ],
      "text/plain": [
       "              open        close          low         high        volume\n",
       "count  1762.000000  1762.000000  1762.000000  1762.000000  1.762000e+03\n",
       "mean    313.076311   312.927066   309.828241   315.911288  9.422578e+07\n",
       "std     185.299468   185.147104   183.383917   186.898177  6.020519e+07\n",
       "min      90.000000    90.279999    89.470001    90.699997  1.147590e+07\n",
       "25%     115.222498   115.190002   114.002500   116.362499  4.917478e+07\n",
       "50%     318.230007   318.240007   316.545002   320.600008  8.050385e+07\n",
       "75%     470.880016   472.592512   467.972513   478.110008  1.210816e+08\n",
       "max     702.409988   702.100021   699.569977   705.070023  4.702495e+08"
      ]
     },
     "execution_count": 65,
     "metadata": {},
     "output_type": "execute_result"
    }
   ],
   "source": [
    "AAPL.describe()"
   ]
  },
  {
   "cell_type": "code",
   "execution_count": 66,
   "metadata": {},
   "outputs": [
    {
     "name": "stderr",
     "output_type": "stream",
     "text": [
      "/Users/betashort/opt/anaconda3/envs/default/lib/python3.7/site-packages/pandas/core/generic.py:5208: SettingWithCopyWarning: \n",
      "A value is trying to be set on a copy of a slice from a DataFrame.\n",
      "Try using .loc[row_indexer,col_indexer] = value instead\n",
      "\n",
      "See the caveats in the documentation: http://pandas.pydata.org/pandas-docs/stable/user_guide/indexing.html#returning-a-view-versus-a-copy\n",
      "  self[name] = value\n"
     ]
    }
   ],
   "source": [
    "AAPL.date = pd.to_datetime(AAPL.date, \n",
    "                           format='%Y-%m-%d')"
   ]
  },
  {
   "cell_type": "markdown",
   "metadata": {},
   "source": [
    "## 日付の差"
   ]
  },
  {
   "cell_type": "code",
   "execution_count": 70,
   "metadata": {},
   "outputs": [
    {
     "data": {
      "text/plain": [
       "Timedelta('120 days 00:00:00')"
      ]
     },
     "execution_count": 70,
     "metadata": {},
     "output_type": "execute_result"
    }
   ],
   "source": [
    "pd.Timestamp('05-01-2017') - pd.Timestamp('01-01-2017')"
   ]
  },
  {
   "cell_type": "code",
   "execution_count": 77,
   "metadata": {},
   "outputs": [],
   "source": [
    "a = AAPL['date'].iloc[0]\n",
    "a.weekday_name"
   ]
  },
  {
   "cell_type": "markdown",
   "metadata": {},
   "source": [
    "## 欠損値"
   ]
  },
  {
   "cell_type": "code",
   "execution_count": 67,
   "metadata": {},
   "outputs": [
    {
     "data": {
      "text/html": [
       "<div>\n",
       "<style scoped>\n",
       "    .dataframe tbody tr th:only-of-type {\n",
       "        vertical-align: middle;\n",
       "    }\n",
       "\n",
       "    .dataframe tbody tr th {\n",
       "        vertical-align: top;\n",
       "    }\n",
       "\n",
       "    .dataframe thead th {\n",
       "        text-align: right;\n",
       "    }\n",
       "</style>\n",
       "<table border=\"1\" class=\"dataframe\">\n",
       "  <thead>\n",
       "    <tr style=\"text-align: right;\">\n",
       "      <th></th>\n",
       "      <th>date</th>\n",
       "      <th>symbol</th>\n",
       "      <th>open</th>\n",
       "      <th>close</th>\n",
       "      <th>low</th>\n",
       "      <th>high</th>\n",
       "      <th>volume</th>\n",
       "    </tr>\n",
       "  </thead>\n",
       "  <tbody>\n",
       "    <tr>\n",
       "      <th>254</th>\n",
       "      <td>2010-01-04</td>\n",
       "      <td>AAPL</td>\n",
       "      <td>213.429998</td>\n",
       "      <td>214.009998</td>\n",
       "      <td>212.380001</td>\n",
       "      <td>214.499996</td>\n",
       "      <td>123432400.0</td>\n",
       "    </tr>\n",
       "    <tr>\n",
       "      <th>721</th>\n",
       "      <td>2010-01-05</td>\n",
       "      <td>AAPL</td>\n",
       "      <td>214.599998</td>\n",
       "      <td>214.379993</td>\n",
       "      <td>213.249994</td>\n",
       "      <td>215.589994</td>\n",
       "      <td>150476200.0</td>\n",
       "    </tr>\n",
       "    <tr>\n",
       "      <th>1189</th>\n",
       "      <td>2010-01-06</td>\n",
       "      <td>AAPL</td>\n",
       "      <td>214.379993</td>\n",
       "      <td>210.969995</td>\n",
       "      <td>210.750004</td>\n",
       "      <td>215.230000</td>\n",
       "      <td>138040000.0</td>\n",
       "    </tr>\n",
       "    <tr>\n",
       "      <th>1657</th>\n",
       "      <td>2010-01-07</td>\n",
       "      <td>AAPL</td>\n",
       "      <td>211.750000</td>\n",
       "      <td>210.580000</td>\n",
       "      <td>209.050005</td>\n",
       "      <td>212.000006</td>\n",
       "      <td>119282800.0</td>\n",
       "    </tr>\n",
       "    <tr>\n",
       "      <th>2125</th>\n",
       "      <td>2010-01-08</td>\n",
       "      <td>AAPL</td>\n",
       "      <td>210.299994</td>\n",
       "      <td>211.980005</td>\n",
       "      <td>209.060005</td>\n",
       "      <td>212.000006</td>\n",
       "      <td>111902700.0</td>\n",
       "    </tr>\n",
       "    <tr>\n",
       "      <th>...</th>\n",
       "      <td>...</td>\n",
       "      <td>...</td>\n",
       "      <td>...</td>\n",
       "      <td>...</td>\n",
       "      <td>...</td>\n",
       "      <td>...</td>\n",
       "      <td>...</td>\n",
       "    </tr>\n",
       "    <tr>\n",
       "      <th>848767</th>\n",
       "      <td>2016-12-23</td>\n",
       "      <td>AAPL</td>\n",
       "      <td>115.589996</td>\n",
       "      <td>116.519997</td>\n",
       "      <td>115.589996</td>\n",
       "      <td>116.519997</td>\n",
       "      <td>14249500.0</td>\n",
       "    </tr>\n",
       "    <tr>\n",
       "      <th>849267</th>\n",
       "      <td>2016-12-27</td>\n",
       "      <td>AAPL</td>\n",
       "      <td>116.519997</td>\n",
       "      <td>117.260002</td>\n",
       "      <td>116.489998</td>\n",
       "      <td>117.800003</td>\n",
       "      <td>18296900.0</td>\n",
       "    </tr>\n",
       "    <tr>\n",
       "      <th>849767</th>\n",
       "      <td>2016-12-28</td>\n",
       "      <td>AAPL</td>\n",
       "      <td>117.519997</td>\n",
       "      <td>116.760002</td>\n",
       "      <td>116.199997</td>\n",
       "      <td>118.019997</td>\n",
       "      <td>20905900.0</td>\n",
       "    </tr>\n",
       "    <tr>\n",
       "      <th>850267</th>\n",
       "      <td>2016-12-29</td>\n",
       "      <td>AAPL</td>\n",
       "      <td>116.449997</td>\n",
       "      <td>116.730003</td>\n",
       "      <td>116.400002</td>\n",
       "      <td>117.110001</td>\n",
       "      <td>15039500.0</td>\n",
       "    </tr>\n",
       "    <tr>\n",
       "      <th>850767</th>\n",
       "      <td>2016-12-30</td>\n",
       "      <td>AAPL</td>\n",
       "      <td>116.650002</td>\n",
       "      <td>115.820000</td>\n",
       "      <td>115.430000</td>\n",
       "      <td>117.199997</td>\n",
       "      <td>30586300.0</td>\n",
       "    </tr>\n",
       "  </tbody>\n",
       "</table>\n",
       "<p>1762 rows × 7 columns</p>\n",
       "</div>"
      ],
      "text/plain": [
       "             date symbol        open       close         low        high  \\\n",
       "254    2010-01-04   AAPL  213.429998  214.009998  212.380001  214.499996   \n",
       "721    2010-01-05   AAPL  214.599998  214.379993  213.249994  215.589994   \n",
       "1189   2010-01-06   AAPL  214.379993  210.969995  210.750004  215.230000   \n",
       "1657   2010-01-07   AAPL  211.750000  210.580000  209.050005  212.000006   \n",
       "2125   2010-01-08   AAPL  210.299994  211.980005  209.060005  212.000006   \n",
       "...           ...    ...         ...         ...         ...         ...   \n",
       "848767 2016-12-23   AAPL  115.589996  116.519997  115.589996  116.519997   \n",
       "849267 2016-12-27   AAPL  116.519997  117.260002  116.489998  117.800003   \n",
       "849767 2016-12-28   AAPL  117.519997  116.760002  116.199997  118.019997   \n",
       "850267 2016-12-29   AAPL  116.449997  116.730003  116.400002  117.110001   \n",
       "850767 2016-12-30   AAPL  116.650002  115.820000  115.430000  117.199997   \n",
       "\n",
       "             volume  \n",
       "254     123432400.0  \n",
       "721     150476200.0  \n",
       "1189    138040000.0  \n",
       "1657    119282800.0  \n",
       "2125    111902700.0  \n",
       "...             ...  \n",
       "848767   14249500.0  \n",
       "849267   18296900.0  \n",
       "849767   20905900.0  \n",
       "850267   15039500.0  \n",
       "850767   30586300.0  \n",
       "\n",
       "[1762 rows x 7 columns]"
      ]
     },
     "execution_count": 67,
     "metadata": {},
     "output_type": "execute_result"
    }
   ],
   "source": [
    "#内挿\n",
    "dataframe.interpolate()\n",
    "#前方補完\n",
    "dataframe.ffill()\n",
    "#後方補完\n",
    "dataframe.bfill()"
   ]
  },
  {
   "cell_type": "markdown",
   "metadata": {},
   "source": [
    "train 2010~2014  \n",
    "val 2015  \n",
    "test 2016  "
   ]
  },
  {
   "cell_type": "code",
   "execution_count": 42,
   "metadata": {},
   "outputs": [],
   "source": [
    "train = AAPL[AAPL.date < dt.datetime(2015,1,1)].open\n",
    "val = AAPL[(AAPL.date > dt.datetime(2015,1,1)) & (AAPL.date < dt.datetime(2016,1,1))].open\n",
    "test = AAPL[AAPL.date > dt.datetime(2016,1,1)].open"
   ]
  },
  {
   "cell_type": "code",
   "execution_count": 57,
   "metadata": {},
   "outputs": [
    {
     "data": {
      "text/plain": [
       "254       213.429998\n",
       "721       214.599998\n",
       "1189      214.379993\n",
       "1657      211.750000\n",
       "2125      210.299994\n",
       "             ...    \n",
       "597986    112.580002\n",
       "598476    112.099998\n",
       "598966    113.790001\n",
       "599456    113.639999\n",
       "599946    112.820000\n",
       "Name: open, Length: 1258, dtype: float64"
      ]
     },
     "execution_count": 57,
     "metadata": {},
     "output_type": "execute_result"
    }
   ],
   "source": []
  },
  {
   "cell_type": "code",
   "execution_count": null,
   "metadata": {},
   "outputs": [],
   "source": []
  },
  {
   "cell_type": "code",
   "execution_count": null,
   "metadata": {},
   "outputs": [],
   "source": []
  },
  {
   "cell_type": "code",
   "execution_count": null,
   "metadata": {},
   "outputs": [],
   "source": []
  },
  {
   "cell_type": "code",
   "execution_count": 49,
   "metadata": {},
   "outputs": [],
   "source": [
    "from statsmodels.tsa import ar_model"
   ]
  },
  {
   "cell_type": "code",
   "execution_count": null,
   "metadata": {},
   "outputs": [],
   "source": []
  },
  {
   "cell_type": "code",
   "execution_count": null,
   "metadata": {},
   "outputs": [],
   "source": []
  },
  {
   "cell_type": "code",
   "execution_count": null,
   "metadata": {},
   "outputs": [],
   "source": []
  },
  {
   "cell_type": "code",
   "execution_count": null,
   "metadata": {},
   "outputs": [],
   "source": []
  },
  {
   "cell_type": "code",
   "execution_count": null,
   "metadata": {},
   "outputs": [],
   "source": []
  },
  {
   "cell_type": "code",
   "execution_count": 50,
   "metadata": {},
   "outputs": [
    {
     "name": "stderr",
     "output_type": "stream",
     "text": [
      "/Users/betashort/opt/anaconda3/envs/default/lib/python3.7/site-packages/statsmodels/tsa/base/tsa_model.py:215: ValueWarning: An unsupported index was provided and will be ignored when e.g. forecasting.\n",
      "  ' ignored when e.g. forecasting.', ValueWarning)\n"
     ]
    }
   ],
   "source": [
    "model = ar_model.AR(train)"
   ]
  },
  {
   "cell_type": "code",
   "execution_count": 51,
   "metadata": {},
   "outputs": [
    {
     "name": "stdout",
     "output_type": "stream",
     "text": [
      "lag=  1 aic:  5.735585345283071\n",
      "lag=  2 aic:  5.7374846782440985\n",
      "lag=  3 aic:  5.739876701817995\n",
      "lag=  4 aic:  5.741836581594583\n",
      "lag=  5 aic:  5.74375385470988\n",
      "lag=  6 aic:  5.745898089049423\n",
      "lag=  7 aic:  5.74815218256545\n",
      "lag=  8 aic:  5.750249987285907\n",
      "lag=  9 aic:  5.752230965295949\n",
      "lag=  10 aic:  5.754575705422368\n",
      "lag=  11 aic:  5.756905311984966\n",
      "lag=  12 aic:  5.759209155448665\n",
      "lag=  13 aic:  5.761585464285864\n",
      "lag=  14 aic:  5.763902949640408\n",
      "lag=  15 aic:  5.766261399625149\n",
      "lag=  16 aic:  5.768647008390873\n",
      "lag=  17 aic:  5.771081163124399\n",
      "lag=  18 aic:  5.773321292113928\n",
      "lag=  19 aic:  5.775584515637399\n",
      "lag=  20 aic:  5.777760215197354\n"
     ]
    }
   ],
   "source": [
    "for i in range(20):\n",
    "    results = model.fit(maxlag=i+1)\n",
    "    print('lag= ', i+1, 'aic: ', results.aic)"
   ]
  },
  {
   "cell_type": "code",
   "execution_count": 53,
   "metadata": {},
   "outputs": [],
   "source": [
    "results = model.fit(maxlag=1, ic='aic')"
   ]
  },
  {
   "cell_type": "code",
   "execution_count": 55,
   "metadata": {},
   "outputs": [
    {
     "data": {
      "text/plain": [
       "1"
      ]
     },
     "execution_count": 55,
     "metadata": {},
     "output_type": "execute_result"
    }
   ],
   "source": [
    "results.k_ar"
   ]
  },
  {
   "cell_type": "code",
   "execution_count": null,
   "metadata": {},
   "outputs": [],
   "source": []
  }
 ],
 "metadata": {
  "kernelspec": {
   "display_name": "Python 3",
   "language": "python",
   "name": "python3"
  },
  "language_info": {
   "codemirror_mode": {
    "name": "ipython",
    "version": 3
   },
   "file_extension": ".py",
   "mimetype": "text/x-python",
   "name": "python",
   "nbconvert_exporter": "python",
   "pygments_lexer": "ipython3",
   "version": "3.7.5"
  }
 },
 "nbformat": 4,
 "nbformat_minor": 4
}
